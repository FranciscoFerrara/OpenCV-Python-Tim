{
 "cells": [
  {
   "cell_type": "code",
   "execution_count": null,
   "id": "b0f40b82",
   "metadata": {},
   "outputs": [],
   "source": [
    "import cv2\n",
    "#Carregar a imagem\n",
    "img_igro = cv2.imread('assets/igrovac.jpg', 0) \n",
    "#Parametros:\n",
    "#1° Image Path   \n",
    "#2° Tags  ==  Colorido = -1 / Preto e Branco = 0 / Sem mudar = 1\n",
    "\n",
    "img_igro = cv2.resize(img_igro,(0,0), fx=2, fy=2)#parametros: 1° img   2° tamanho    ou    usar fx e fy (multiplica a quantidade atual de pixel por x) \n",
    "img_igro_ = cv2.rotate(img_igro, cv2.ROTATE_180) #se quiser mais opção ve na documentação  / até rimou\n",
    "        \n",
    "\n",
    "cv2.imshow('Imagem', img_igro)#Parametros: 1° WinLabel  2° Image\n",
    "cv2.waitKey(0)#Essa linha espera que qualquer tecla seja apertada por uma quantidade de tempo colocada no parametro para continuar rodando o código\n",
    "cv2.destroyAllWindows()#Essa linha é auto explicativa kakkakka"
   ]
  },
  {
   "cell_type": "code",
   "execution_count": null,
   "id": "2809c0d6",
   "metadata": {},
   "outputs": [],
   "source": []
  }
 ],
 "metadata": {
  "kernelspec": {
   "display_name": "Python 3 (ipykernel)",
   "language": "python",
   "name": "python3"
  },
  "language_info": {
   "codemirror_mode": {
    "name": "ipython",
    "version": 3
   },
   "file_extension": ".py",
   "mimetype": "text/x-python",
   "name": "python",
   "nbconvert_exporter": "python",
   "pygments_lexer": "ipython3",
   "version": "3.9.12"
  }
 },
 "nbformat": 4,
 "nbformat_minor": 5
}
